{
 "metadata": {
  "language_info": {
   "codemirror_mode": {
    "name": "ipython",
    "version": 3
   },
   "file_extension": ".py",
   "mimetype": "text/x-python",
   "name": "python",
   "nbconvert_exporter": "python",
   "pygments_lexer": "ipython3",
   "version": "3.8.5"
  },
  "orig_nbformat": 2,
  "kernelspec": {
   "name": "python385jvsc74a57bd0c81169c30fb96244cfba0db287a0d3fd5325268de070a7a6116eecd4596df902",
   "display_name": "Python 3.8.5 64-bit ('base': conda)"
  }
 },
 "nbformat": 4,
 "nbformat_minor": 2,
 "cells": [
  {
   "source": [
    "### 데이터프레임 인덱스 조작"
   ],
   "cell_type": "markdown",
   "metadata": {}
  },
  {
   "cell_type": "code",
   "execution_count": 2,
   "metadata": {},
   "outputs": [],
   "source": [
    "import numpy as np \n",
    "import pandas as pd"
   ]
  },
  {
   "cell_type": "code",
   "execution_count": 3,
   "metadata": {},
   "outputs": [
    {
     "output_type": "execute_result",
     "data": {
      "text/plain": [
       "  C1    C2    C3    C4\n",
       "0  A  0.61  0.13   0.1\n",
       "1  B  0.73  0.18  0.06\n",
       "2  C  0.14  0.75  0.96\n",
       "3  D  0.31  0.66  0.62\n",
       "4  E   1.0  0.78  0.09"
      ],
      "text/html": "<div>\n<style scoped>\n    .dataframe tbody tr th:only-of-type {\n        vertical-align: middle;\n    }\n\n    .dataframe tbody tr th {\n        vertical-align: top;\n    }\n\n    .dataframe thead th {\n        text-align: right;\n    }\n</style>\n<table border=\"1\" class=\"dataframe\">\n  <thead>\n    <tr style=\"text-align: right;\">\n      <th></th>\n      <th>C1</th>\n      <th>C2</th>\n      <th>C3</th>\n      <th>C4</th>\n    </tr>\n  </thead>\n  <tbody>\n    <tr>\n      <th>0</th>\n      <td>A</td>\n      <td>0.61</td>\n      <td>0.13</td>\n      <td>0.1</td>\n    </tr>\n    <tr>\n      <th>1</th>\n      <td>B</td>\n      <td>0.73</td>\n      <td>0.18</td>\n      <td>0.06</td>\n    </tr>\n    <tr>\n      <th>2</th>\n      <td>C</td>\n      <td>0.14</td>\n      <td>0.75</td>\n      <td>0.96</td>\n    </tr>\n    <tr>\n      <th>3</th>\n      <td>D</td>\n      <td>0.31</td>\n      <td>0.66</td>\n      <td>0.62</td>\n    </tr>\n    <tr>\n      <th>4</th>\n      <td>E</td>\n      <td>1.0</td>\n      <td>0.78</td>\n      <td>0.09</td>\n    </tr>\n  </tbody>\n</table>\n</div>"
     },
     "metadata": {},
     "execution_count": 3
    }
   ],
   "source": [
    "np.random.seed(2021)\n",
    "df1 = pd.DataFrame(np.vstack([list('ABCDE'),\n",
    "                              np.round(np.random.rand(3, 5), 2)]).T,\n",
    "                   columns=[\"C1\", \"C2\", \"C3\", \"C4\"])\n",
    "df1"
   ]
  },
  {
   "source": [
    "- set_index()"
   ],
   "cell_type": "markdown",
   "metadata": {}
  },
  {
   "cell_type": "code",
   "execution_count": 4,
   "metadata": {},
   "outputs": [
    {
     "output_type": "execute_result",
     "data": {
      "text/plain": [
       "      C2    C3    C4\n",
       "C1                  \n",
       "A   0.61  0.13   0.1\n",
       "B   0.73  0.18  0.06\n",
       "C   0.14  0.75  0.96\n",
       "D   0.31  0.66  0.62\n",
       "E    1.0  0.78  0.09"
      ],
      "text/html": "<div>\n<style scoped>\n    .dataframe tbody tr th:only-of-type {\n        vertical-align: middle;\n    }\n\n    .dataframe tbody tr th {\n        vertical-align: top;\n    }\n\n    .dataframe thead th {\n        text-align: right;\n    }\n</style>\n<table border=\"1\" class=\"dataframe\">\n  <thead>\n    <tr style=\"text-align: right;\">\n      <th></th>\n      <th>C2</th>\n      <th>C3</th>\n      <th>C4</th>\n    </tr>\n    <tr>\n      <th>C1</th>\n      <th></th>\n      <th></th>\n      <th></th>\n    </tr>\n  </thead>\n  <tbody>\n    <tr>\n      <th>A</th>\n      <td>0.61</td>\n      <td>0.13</td>\n      <td>0.1</td>\n    </tr>\n    <tr>\n      <th>B</th>\n      <td>0.73</td>\n      <td>0.18</td>\n      <td>0.06</td>\n    </tr>\n    <tr>\n      <th>C</th>\n      <td>0.14</td>\n      <td>0.75</td>\n      <td>0.96</td>\n    </tr>\n    <tr>\n      <th>D</th>\n      <td>0.31</td>\n      <td>0.66</td>\n      <td>0.62</td>\n    </tr>\n    <tr>\n      <th>E</th>\n      <td>1.0</td>\n      <td>0.78</td>\n      <td>0.09</td>\n    </tr>\n  </tbody>\n</table>\n</div>"
     },
     "metadata": {},
     "execution_count": 4
    }
   ],
   "source": [
    "df2 = df1.set_index('C1')\n",
    "df2"
   ]
  },
  {
   "cell_type": "code",
   "execution_count": 5,
   "metadata": {},
   "outputs": [
    {
     "output_type": "execute_result",
     "data": {
      "text/plain": [
       "        C3    C4\n",
       "C2              \n",
       "0.61  0.13   0.1\n",
       "0.73  0.18  0.06\n",
       "0.14  0.75  0.96\n",
       "0.31  0.66  0.62\n",
       "1.0   0.78  0.09"
      ],
      "text/html": "<div>\n<style scoped>\n    .dataframe tbody tr th:only-of-type {\n        vertical-align: middle;\n    }\n\n    .dataframe tbody tr th {\n        vertical-align: top;\n    }\n\n    .dataframe thead th {\n        text-align: right;\n    }\n</style>\n<table border=\"1\" class=\"dataframe\">\n  <thead>\n    <tr style=\"text-align: right;\">\n      <th></th>\n      <th>C3</th>\n      <th>C4</th>\n    </tr>\n    <tr>\n      <th>C2</th>\n      <th></th>\n      <th></th>\n    </tr>\n  </thead>\n  <tbody>\n    <tr>\n      <th>0.61</th>\n      <td>0.13</td>\n      <td>0.1</td>\n    </tr>\n    <tr>\n      <th>0.73</th>\n      <td>0.18</td>\n      <td>0.06</td>\n    </tr>\n    <tr>\n      <th>0.14</th>\n      <td>0.75</td>\n      <td>0.96</td>\n    </tr>\n    <tr>\n      <th>0.31</th>\n      <td>0.66</td>\n      <td>0.62</td>\n    </tr>\n    <tr>\n      <th>1.0</th>\n      <td>0.78</td>\n      <td>0.09</td>\n    </tr>\n  </tbody>\n</table>\n</div>"
     },
     "metadata": {},
     "execution_count": 5
    }
   ],
   "source": [
    "df3 = df2.set_index('C2')\n",
    "df3"
   ]
  },
  {
   "source": [
    "- inplace 속성"
   ],
   "cell_type": "markdown",
   "metadata": {}
  },
  {
   "cell_type": "code",
   "execution_count": 6,
   "metadata": {},
   "outputs": [
    {
     "output_type": "execute_result",
     "data": {
      "text/plain": [
       "        C4\n",
       "C3        \n",
       "0.13   0.1\n",
       "0.18  0.06\n",
       "0.75  0.96\n",
       "0.66  0.62\n",
       "0.78  0.09"
      ],
      "text/html": "<div>\n<style scoped>\n    .dataframe tbody tr th:only-of-type {\n        vertical-align: middle;\n    }\n\n    .dataframe tbody tr th {\n        vertical-align: top;\n    }\n\n    .dataframe thead th {\n        text-align: right;\n    }\n</style>\n<table border=\"1\" class=\"dataframe\">\n  <thead>\n    <tr style=\"text-align: right;\">\n      <th></th>\n      <th>C4</th>\n    </tr>\n    <tr>\n      <th>C3</th>\n      <th></th>\n    </tr>\n  </thead>\n  <tbody>\n    <tr>\n      <th>0.13</th>\n      <td>0.1</td>\n    </tr>\n    <tr>\n      <th>0.18</th>\n      <td>0.06</td>\n    </tr>\n    <tr>\n      <th>0.75</th>\n      <td>0.96</td>\n    </tr>\n    <tr>\n      <th>0.66</th>\n      <td>0.62</td>\n    </tr>\n    <tr>\n      <th>0.78</th>\n      <td>0.09</td>\n    </tr>\n  </tbody>\n</table>\n</div>"
     },
     "metadata": {},
     "execution_count": 6
    }
   ],
   "source": [
    "df3.set_index('C3', inplace=True)\n",
    "df3"
   ]
  },
  {
   "source": [
    "- reset_index()"
   ],
   "cell_type": "markdown",
   "metadata": {}
  },
  {
   "cell_type": "code",
   "execution_count": 7,
   "metadata": {},
   "outputs": [
    {
     "output_type": "execute_result",
     "data": {
      "text/plain": [
       "      C2    C3    C4\n",
       "C1                  \n",
       "A   0.61  0.13   0.1\n",
       "B   0.73  0.18  0.06\n",
       "C   0.14  0.75  0.96\n",
       "D   0.31  0.66  0.62\n",
       "E    1.0  0.78  0.09"
      ],
      "text/html": "<div>\n<style scoped>\n    .dataframe tbody tr th:only-of-type {\n        vertical-align: middle;\n    }\n\n    .dataframe tbody tr th {\n        vertical-align: top;\n    }\n\n    .dataframe thead th {\n        text-align: right;\n    }\n</style>\n<table border=\"1\" class=\"dataframe\">\n  <thead>\n    <tr style=\"text-align: right;\">\n      <th></th>\n      <th>C2</th>\n      <th>C3</th>\n      <th>C4</th>\n    </tr>\n    <tr>\n      <th>C1</th>\n      <th></th>\n      <th></th>\n      <th></th>\n    </tr>\n  </thead>\n  <tbody>\n    <tr>\n      <th>A</th>\n      <td>0.61</td>\n      <td>0.13</td>\n      <td>0.1</td>\n    </tr>\n    <tr>\n      <th>B</th>\n      <td>0.73</td>\n      <td>0.18</td>\n      <td>0.06</td>\n    </tr>\n    <tr>\n      <th>C</th>\n      <td>0.14</td>\n      <td>0.75</td>\n      <td>0.96</td>\n    </tr>\n    <tr>\n      <th>D</th>\n      <td>0.31</td>\n      <td>0.66</td>\n      <td>0.62</td>\n    </tr>\n    <tr>\n      <th>E</th>\n      <td>1.0</td>\n      <td>0.78</td>\n      <td>0.09</td>\n    </tr>\n  </tbody>\n</table>\n</div>"
     },
     "metadata": {},
     "execution_count": 7
    }
   ],
   "source": [
    "df2"
   ]
  },
  {
   "cell_type": "code",
   "execution_count": 8,
   "metadata": {},
   "outputs": [
    {
     "output_type": "execute_result",
     "data": {
      "text/plain": [
       "  C1    C2    C3    C4\n",
       "0  A  0.61  0.13   0.1\n",
       "1  B  0.73  0.18  0.06\n",
       "2  C  0.14  0.75  0.96\n",
       "3  D  0.31  0.66  0.62\n",
       "4  E   1.0  0.78  0.09"
      ],
      "text/html": "<div>\n<style scoped>\n    .dataframe tbody tr th:only-of-type {\n        vertical-align: middle;\n    }\n\n    .dataframe tbody tr th {\n        vertical-align: top;\n    }\n\n    .dataframe thead th {\n        text-align: right;\n    }\n</style>\n<table border=\"1\" class=\"dataframe\">\n  <thead>\n    <tr style=\"text-align: right;\">\n      <th></th>\n      <th>C1</th>\n      <th>C2</th>\n      <th>C3</th>\n      <th>C4</th>\n    </tr>\n  </thead>\n  <tbody>\n    <tr>\n      <th>0</th>\n      <td>A</td>\n      <td>0.61</td>\n      <td>0.13</td>\n      <td>0.1</td>\n    </tr>\n    <tr>\n      <th>1</th>\n      <td>B</td>\n      <td>0.73</td>\n      <td>0.18</td>\n      <td>0.06</td>\n    </tr>\n    <tr>\n      <th>2</th>\n      <td>C</td>\n      <td>0.14</td>\n      <td>0.75</td>\n      <td>0.96</td>\n    </tr>\n    <tr>\n      <th>3</th>\n      <td>D</td>\n      <td>0.31</td>\n      <td>0.66</td>\n      <td>0.62</td>\n    </tr>\n    <tr>\n      <th>4</th>\n      <td>E</td>\n      <td>1.0</td>\n      <td>0.78</td>\n      <td>0.09</td>\n    </tr>\n  </tbody>\n</table>\n</div>"
     },
     "metadata": {},
     "execution_count": 8
    }
   ],
   "source": [
    "df2.reset_index(inplace=True)\n",
    "df2"
   ]
  },
  {
   "cell_type": "code",
   "execution_count": null,
   "metadata": {},
   "outputs": [],
   "source": []
  }
 ]
}