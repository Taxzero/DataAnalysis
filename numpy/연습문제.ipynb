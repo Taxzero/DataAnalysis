{
 "metadata": {
  "language_info": {
   "codemirror_mode": {
    "name": "ipython",
    "version": 3
   },
   "file_extension": ".py",
   "mimetype": "text/x-python",
   "name": "python",
   "nbconvert_exporter": "python",
   "pygments_lexer": "ipython3",
   "version": "3.8.5"
  },
  "orig_nbformat": 2,
  "kernelspec": {
   "name": "python385jvsc74a57bd0c81169c30fb96244cfba0db287a0d3fd5325268de070a7a6116eecd4596df902",
   "display_name": "Python 3.8.5 64-bit ('base': conda)"
  }
 },
 "nbformat": 4,
 "nbformat_minor": 2,
 "cells": [
  {
   "cell_type": "code",
   "execution_count": 1,
   "metadata": {},
   "outputs": [],
   "source": [
    "import numpy as np"
   ]
  },
  {
   "cell_type": "code",
   "execution_count": 135,
   "metadata": {},
   "outputs": [
    {
     "output_type": "execute_result",
     "data": {
      "text/plain": [
       "array([[10, 20, 30, 40],\n",
       "       [50, 60, 70, 80]])"
      ]
     },
     "metadata": {},
     "execution_count": 135
    }
   ],
   "source": [
    "np.arange(10,81,10).reshape(2,4)"
   ]
  },
  {
   "cell_type": "code",
   "execution_count": 136,
   "metadata": {},
   "outputs": [
    {
     "output_type": "execute_result",
     "data": {
      "text/plain": [
       "array([[ 0,  1,  2,  3,  4],\n",
       "       [ 5,  6,  7,  8,  9],\n",
       "       [10, 11, 12, 13, 14]])"
      ]
     },
     "metadata": {},
     "execution_count": 136
    }
   ],
   "source": [
    "m = np.arange(15).reshape(3,5)\n",
    "m"
   ]
  },
  {
   "cell_type": "code",
   "execution_count": 137,
   "metadata": {},
   "outputs": [
    {
     "output_type": "execute_result",
     "data": {
      "text/plain": [
       "7"
      ]
     },
     "metadata": {},
     "execution_count": 137
    }
   ],
   "source": [
    "m[1,2]"
   ]
  },
  {
   "cell_type": "code",
   "execution_count": 138,
   "metadata": {},
   "outputs": [
    {
     "output_type": "execute_result",
     "data": {
      "text/plain": [
       "14"
      ]
     },
     "metadata": {},
     "execution_count": 138
    }
   ],
   "source": [
    "m[2,4]"
   ]
  },
  {
   "cell_type": "code",
   "execution_count": 139,
   "metadata": {},
   "outputs": [
    {
     "output_type": "execute_result",
     "data": {
      "text/plain": [
       "array([6, 7])"
      ]
     },
     "metadata": {},
     "execution_count": 139
    }
   ],
   "source": [
    "m[1,1:3]"
   ]
  },
  {
   "cell_type": "code",
   "execution_count": 140,
   "metadata": {},
   "outputs": [
    {
     "output_type": "execute_result",
     "data": {
      "text/plain": [
       "array([ 7, 12])"
      ]
     },
     "metadata": {},
     "execution_count": 140
    }
   ],
   "source": [
    "m[1:3,2]"
   ]
  },
  {
   "cell_type": "code",
   "execution_count": 141,
   "metadata": {},
   "outputs": [
    {
     "output_type": "execute_result",
     "data": {
      "text/plain": [
       "[array([3, 4]), array([8, 9])]"
      ]
     },
     "metadata": {},
     "execution_count": 141
    }
   ],
   "source": [
    "[m[0,3:],m[1,3:]]"
   ]
  },
  {
   "cell_type": "code",
   "execution_count": 167,
   "metadata": {},
   "outputs": [
    {
     "output_type": "execute_result",
     "data": {
      "text/plain": [
       "array([ 0,  1,  2,  3,  4,  5,  6,  7,  8,  9, 10, 11, 12, 13, 14])"
      ]
     },
     "metadata": {},
     "execution_count": 167
    }
   ],
   "source": [
    "f = m.flatten()\n",
    "f"
   ]
  },
  {
   "cell_type": "code",
   "execution_count": 194,
   "metadata": {},
   "outputs": [
    {
     "output_type": "execute_result",
     "data": {
      "text/plain": [
       "array([ 0,  3,  6,  9, 12])"
      ]
     },
     "metadata": {},
     "execution_count": 194
    }
   ],
   "source": [
    "a =f[f%3 == 0]\n",
    "a"
   ]
  },
  {
   "cell_type": "code",
   "execution_count": 195,
   "metadata": {},
   "outputs": [
    {
     "output_type": "execute_result",
     "data": {
      "text/plain": [
       "array([ 1,  5,  9, 13])"
      ]
     },
     "metadata": {},
     "execution_count": 195
    }
   ],
   "source": [
    "b = f[f%4 ==1]\n",
    "b"
   ]
  },
  {
   "cell_type": "code",
   "execution_count": 198,
   "metadata": {},
   "outputs": [
    {
     "output_type": "execute_result",
     "data": {
      "text/plain": [
       "array([9])"
      ]
     },
     "metadata": {},
     "execution_count": 198
    }
   ],
   "source": [
    "np.intersect1d(a,b)"
   ]
  },
  {
   "cell_type": "code",
   "execution_count": 221,
   "metadata": {},
   "outputs": [
    {
     "output_type": "execute_result",
     "data": {
      "text/plain": [
       "array([[2., 1., 0., 0., 0.],\n",
       "       [3., 2., 1., 0., 0.],\n",
       "       [0., 3., 2., 1., 0.],\n",
       "       [0., 0., 3., 2., 1.],\n",
       "       [0., 0., 0., 3., 2.]])"
      ]
     },
     "metadata": {},
     "execution_count": 221
    }
   ],
   "source": [
    "x = np.eye(5,k=1)\n",
    "y = np.eye(5,k=0)\n",
    "y2 = np.eye(5,k=0)\n",
    "z = np.eye(5,k=-1)\n",
    "z2 = np.eye(5,k=-1)\n",
    "z3 = np.eye(5,k=-1)\n",
    "oh = x+y+y2+z+z2+z3\n",
    "oh"
   ]
  },
  {
   "cell_type": "code",
   "execution_count": 257,
   "metadata": {},
   "outputs": [
    {
     "output_type": "execute_result",
     "data": {
      "text/plain": [
       "array([[ 0,  7,  9,  0,  9,  4],\n",
       "       [ 0,  7,  1,  2,  0,  5],\n",
       "       [ 3,  7,  4,  1,  5,  3],\n",
       "       [ 0,  1,  8,  0,  8,  7],\n",
       "       [ 0,  2,  3, 10,  8,  8]])"
      ]
     },
     "metadata": {},
     "execution_count": 257
    }
   ],
   "source": [
    "x = np.random.randint(0,11,size=(5,6))\n",
    "x"
   ]
  },
  {
   "cell_type": "code",
   "execution_count": 258,
   "metadata": {},
   "outputs": [
    {
     "output_type": "execute_result",
     "data": {
      "text/plain": [
       "10"
      ]
     },
     "metadata": {},
     "execution_count": 258
    }
   ],
   "source": [
    "np.max(x)"
   ]
  },
  {
   "cell_type": "code",
   "execution_count": 260,
   "metadata": {},
   "outputs": [
    {
     "output_type": "execute_result",
     "data": {
      "text/plain": [
       "array([29, 15, 23, 24, 31])"
      ]
     },
     "metadata": {},
     "execution_count": 260
    }
   ],
   "source": [
    "np.sum(x, axis=1)"
   ]
  },
  {
   "cell_type": "code",
   "execution_count": 261,
   "metadata": {},
   "outputs": [
    {
     "output_type": "execute_result",
     "data": {
      "text/plain": [
       "array([ 9,  7,  7,  8, 10])"
      ]
     },
     "metadata": {},
     "execution_count": 261
    }
   ],
   "source": [
    "np.max(x, axis=1)"
   ]
  },
  {
   "cell_type": "code",
   "execution_count": 262,
   "metadata": {},
   "outputs": [
    {
     "output_type": "execute_result",
     "data": {
      "text/plain": [
       "array([4.83333333, 2.5       , 3.83333333, 4.        , 5.16666667])"
      ]
     },
     "metadata": {},
     "execution_count": 262
    }
   ],
   "source": [
    "np.mean(x, axis=1)"
   ]
  },
  {
   "cell_type": "code",
   "execution_count": 263,
   "metadata": {},
   "outputs": [
    {
     "output_type": "execute_result",
     "data": {
      "text/plain": [
       "array([0, 0, 1, 0, 0])"
      ]
     },
     "metadata": {},
     "execution_count": 263
    }
   ],
   "source": [
    "np.min(x, axis=1)"
   ]
  },
  {
   "cell_type": "code",
   "execution_count": 268,
   "metadata": {},
   "outputs": [
    {
     "output_type": "execute_result",
     "data": {
      "text/plain": [
       "array([[  1,   2,   3,   4],\n",
       "       [ 46,  99, 100,  71],\n",
       "       [ 81,  59,  90, 100]])"
      ]
     },
     "metadata": {},
     "execution_count": 268
    }
   ],
   "source": [
    "a = np.array([[1,2,3,4],[46,99,100,71],[81,59,90,100]])\n",
    "a"
   ]
  },
  {
   "cell_type": "code",
   "execution_count": 270,
   "metadata": {},
   "outputs": [
    {
     "output_type": "execute_result",
     "data": {
      "text/plain": [
       "array([[  1,   2,   3,   4],\n",
       "       [ 46,  71,  99, 100],\n",
       "       [ 59,  81,  90, 100]])"
      ]
     },
     "metadata": {},
     "execution_count": 270
    }
   ],
   "source": [
    "np.sort(a, axis=1)"
   ]
  },
  {
   "cell_type": "code",
   "execution_count": 276,
   "metadata": {},
   "outputs": [
    {
     "output_type": "stream",
     "name": "stdout",
     "text": [
      "[1, 1, 6, 2, 3, 1, 4, 2, 4, 3, 6, 6, 4, 6, 2, 4, 3, 1, 3, 1, 6, 2, 5, 1, 1, 1, 1, 3, 6, 2, 4, 6, 6, 5, 6, 2, 4, 5, 1, 6, 3, 4, 6, 3, 3, 4, 4, 3, 3, 6, 5, 4, 1, 3, 1, 4, 3, 6, 4, 6, 3, 4, 3, 3, 1, 6, 5, 4, 6, 3, 4, 3, 1, 2, 5, 1, 6, 3, 2, 3, 4, 2, 4, 6, 1, 1, 4, 5, 3, 4, 1, 5, 4, 4, 4, 5, 3, 3, 4, 6]\n"
     ]
    }
   ],
   "source": [
    "import random\n",
    "\n",
    "dice = []\n",
    "for i in range(100) :\n",
    "    dice.append(random.randint(1,6))\n",
    "print(dice)"
   ]
  },
  {
   "cell_type": "code",
   "execution_count": 285,
   "metadata": {},
   "outputs": [
    {
     "output_type": "execute_result",
     "data": {
      "text/plain": [
       "3.53"
      ]
     },
     "metadata": {},
     "execution_count": 285
    }
   ],
   "source": [
    "import numpy\n",
    "\n",
    "Dice = numpy.array(dice)\n",
    "np.mean(Dice)"
   ]
  },
  {
   "cell_type": "code",
   "execution_count": null,
   "metadata": {},
   "outputs": [],
   "source": [
    "stock = "
   ]
  }
 ]
}