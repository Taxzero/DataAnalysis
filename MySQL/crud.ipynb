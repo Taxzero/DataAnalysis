{
 "metadata": {
  "language_info": {
   "codemirror_mode": {
    "name": "ipython",
    "version": 3
   },
   "file_extension": ".py",
   "mimetype": "text/x-python",
   "name": "python",
   "nbconvert_exporter": "python",
   "pygments_lexer": "ipython3",
   "version": "3.8.5"
  },
  "orig_nbformat": 2,
  "kernelspec": {
   "name": "python385jvsc74a57bd0c81169c30fb96244cfba0db287a0d3fd5325268de070a7a6116eecd4596df902",
   "display_name": "Python 3.8.5 64-bit ('base': conda)"
  }
 },
 "nbformat": 4,
 "nbformat_minor": 2,
 "cells": [
  {
   "source": [
    "# Python MySQL"
   ],
   "cell_type": "markdown",
   "metadata": {}
  },
  {
   "source": [
    "- CRUD Operation"
   ],
   "cell_type": "markdown",
   "metadata": {}
  },
  {
   "cell_type": "code",
   "execution_count": 5,
   "metadata": {},
   "outputs": [],
   "source": [
    "import json\n",
    "import pymysql"
   ]
  },
  {
   "cell_type": "code",
   "execution_count": 6,
   "metadata": {},
   "outputs": [],
   "source": [
    "with open('mysql.json', 'r') as file:\n",
    "    config_str = file.read()\n",
    "config = json.loads(config_str)"
   ]
  },
  {
   "cell_type": "code",
   "execution_count": 7,
   "metadata": {},
   "outputs": [],
   "source": [
    "conn = pymysql.connect(\n",
    "    host = config['host'],\n",
    "    user = config['user'],\n",
    "    password = config['password'],\n",
    "    database = config['database'],\n",
    "    port = config['port'] \n",
    ")"
   ]
  },
  {
   "source": [
    "- 테이블 생성"
   ],
   "cell_type": "markdown",
   "metadata": {}
  },
  {
   "cell_type": "code",
   "execution_count": 8,
   "metadata": {},
   "outputs": [],
   "source": [
    "sql_user = \"\"\"\n",
    "    CREATE TABLE if NOT EXISTS users (\n",
    "        uid VARCHAR(20) NOT NULL PRIMARY KEY,\n",
    "        pwd CHAR(44),\n",
    "        uname VARCHAR(20) NOT NULL,\n",
    "        reg_date DATETIME DEFAULT CURRENT_TIMESTAMP,\n",
    "        is_deleted INT DEFAULT 0\n",
    "    );\n",
    "\"\"\""
   ]
  },
  {
   "cell_type": "code",
   "execution_count": 9,
   "metadata": {},
   "outputs": [
    {
     "output_type": "execute_result",
     "data": {
      "text/plain": [
       "0"
      ]
     },
     "metadata": {},
     "execution_count": 9
    }
   ],
   "source": [
    "cur = conn.cursor()\n",
    "cur.execute(sql_user)"
   ]
  },
  {
   "source": [
    "- 테이블 변경"
   ],
   "cell_type": "markdown",
   "metadata": {}
  },
  {
   "cell_type": "code",
   "execution_count": 10,
   "metadata": {},
   "outputs": [
    {
     "output_type": "execute_result",
     "data": {
      "text/plain": [
       "0"
      ]
     },
     "metadata": {},
     "execution_count": 10
    }
   ],
   "source": [
    "cur.execute('alter table users add column email varchar(40);')"
   ]
  },
  {
   "source": [
    "- 데이터 입력"
   ],
   "cell_type": "markdown",
   "metadata": {}
  },
  {
   "cell_type": "code",
   "execution_count": 11,
   "metadata": {},
   "outputs": [
    {
     "output_type": "execute_result",
     "data": {
      "text/plain": [
       "1"
      ]
     },
     "metadata": {},
     "execution_count": 11
    }
   ],
   "source": [
    "cur = conn.cursor()\n",
    "cur.execute(\"INSERT INTO users(uid, uname) VALUES('admin','관리자');\")"
   ]
  },
  {
   "cell_type": "code",
   "execution_count": 12,
   "metadata": {},
   "outputs": [
    {
     "output_type": "stream",
     "name": "stdout",
     "text": [
      "('admin', None, '관리자', datetime.datetime(2021, 6, 9, 17, 17, 22), 0, None)\n"
     ]
    }
   ],
   "source": [
    "cur.execute('select * from users;')\n",
    "rows = cur.fetchall()\n",
    "for row in rows:\n",
    "    print(row)"
   ]
  },
  {
   "cell_type": "code",
   "execution_count": 13,
   "metadata": {},
   "outputs": [],
   "source": [
    "# 입력한 데이터를 즉시 flush 하려면 conn.commit() 추가\n",
    "sql_insert_multi = \"\"\"\n",
    "    INSERT INTO users(uid, uname) \n",
    "        VALUES('eskim','김은숙'),('wjlee','이우정');\n",
    "\"\"\"\n",
    "cur.execute(sql_insert_multi)\n",
    "conn.commit()"
   ]
  },
  {
   "cell_type": "code",
   "execution_count": 14,
   "metadata": {},
   "outputs": [
    {
     "output_type": "stream",
     "name": "stdout",
     "text": [
      "('admin', '관리자', '2021-06-09 05:17', 0, None)\n('eskim', '김은숙', '2021-06-09 05:17', 0, None)\n('wjlee', '이우정', '2021-06-09 05:17', 0, None)\n"
     ]
    }
   ],
   "source": [
    "sql_select = \"\"\"\n",
    "    SELECT uid, uname, \n",
    "    DATE_FORMAT(reg_date, '%Y-%m-%d %h:%i') AS reg_date,\n",
    "    is_deleted, email FROM users;\n",
    "\"\"\"\n",
    "cur.execute(sql_select)\n",
    "rows = cur.fetchall()\n",
    "for row in rows:\n",
    "    print(row)"
   ]
  },
  {
   "cell_type": "code",
   "execution_count": 15,
   "metadata": {},
   "outputs": [],
   "source": [
    "# 파라메터 이용, placeholder\n",
    "uid = 'djy'\n",
    "uname = '대조영'\n",
    "cur = conn.cursor()\n",
    "sql = \"INSERT INTO users(uid, uname) VALUES(%s, %s);\"\n",
    "cur.execute(sql, (uid, uname))\n",
    "conn.commit()"
   ]
  },
  {
   "cell_type": "code",
   "execution_count": 16,
   "metadata": {},
   "outputs": [],
   "source": [
    "uid = 'gdhong'\n",
    "cur = conn.cursor()\n",
    "sql = \"INSERT INTO users(uid, uname) VALUES(%s, '홍길동');\"\n",
    "cur.execute(sql, (uid,))\n",
    "conn.commit()"
   ]
  },
  {
   "cell_type": "code",
   "execution_count": 17,
   "metadata": {},
   "outputs": [],
   "source": [
    "users = (('jbpark','박재범'),('vincenzo','빈센조'))\n",
    "cur = conn.cursor()\n",
    "sql = \"INSERT INTO users(uid, uname) VALUES(%s, %s);\"\n",
    "# 아래 for 문은 cur.executemany(sql, users) 로 대체 가능\n",
    "for user in users:\n",
    "    cur.execute(sql, user)\n",
    "conn.commit()"
   ]
  },
  {
   "source": [
    "- 데이터 삭제"
   ],
   "cell_type": "markdown",
   "metadata": {}
  },
  {
   "cell_type": "code",
   "execution_count": 18,
   "metadata": {},
   "outputs": [],
   "source": [
    "cur = conn.cursor()\n",
    "sql = \"DELETE FROM users WHERE uid != 'admin';\"\n",
    "cur.execute(sql)\n",
    "conn.commit()"
   ]
  },
  {
   "cell_type": "code",
   "execution_count": 19,
   "metadata": {},
   "outputs": [
    {
     "output_type": "execute_result",
     "data": {
      "text/plain": [
       "        uid uname\n",
       "0       djy   대조영\n",
       "1     eskim   김은숙\n",
       "2    gdhong   홍길동\n",
       "3    jbpark   박재범\n",
       "4  vincenzo   빈센조\n",
       "5     wjlee   이우정"
      ],
      "text/html": "<div>\n<style scoped>\n    .dataframe tbody tr th:only-of-type {\n        vertical-align: middle;\n    }\n\n    .dataframe tbody tr th {\n        vertical-align: top;\n    }\n\n    .dataframe thead th {\n        text-align: right;\n    }\n</style>\n<table border=\"1\" class=\"dataframe\">\n  <thead>\n    <tr style=\"text-align: right;\">\n      <th></th>\n      <th>uid</th>\n      <th>uname</th>\n    </tr>\n  </thead>\n  <tbody>\n    <tr>\n      <th>0</th>\n      <td>djy</td>\n      <td>대조영</td>\n    </tr>\n    <tr>\n      <th>1</th>\n      <td>eskim</td>\n      <td>김은숙</td>\n    </tr>\n    <tr>\n      <th>2</th>\n      <td>gdhong</td>\n      <td>홍길동</td>\n    </tr>\n    <tr>\n      <th>3</th>\n      <td>jbpark</td>\n      <td>박재범</td>\n    </tr>\n    <tr>\n      <th>4</th>\n      <td>vincenzo</td>\n      <td>빈센조</td>\n    </tr>\n    <tr>\n      <th>5</th>\n      <td>wjlee</td>\n      <td>이우정</td>\n    </tr>\n  </tbody>\n</table>\n</div>"
     },
     "metadata": {},
     "execution_count": 19
    }
   ],
   "source": [
    "import pandas as pd\n",
    "uids = ['djy','eskim','gdhong','jbpark','vincenzo','wjlee']\n",
    "unames = ['대조영','김은숙','홍길동','박재범','빈센조','이우정']\n",
    "df = pd.DataFrame({'uid':uids, 'uname':unames})\n",
    "df"
   ]
  },
  {
   "cell_type": "code",
   "execution_count": 20,
   "metadata": {},
   "outputs": [],
   "source": [
    "cur = conn.cursor()\n",
    "sql = \"INSERT INTO users(uid, uname) VALUES(%s, %s);\"\n",
    "for i in df.index:\n",
    "    cur.execute(sql, (df.uid[i], df.uname[i]))\n",
    "conn.commit()"
   ]
  },
  {
   "source": [
    "- 데이터 수정"
   ],
   "cell_type": "markdown",
   "metadata": {}
  },
  {
   "cell_type": "code",
   "execution_count": 21,
   "metadata": {},
   "outputs": [],
   "source": [
    "email = 'admin@korea.com'\n",
    "uid = 'admin'\n",
    "cur = conn.cursor()\n",
    "sql = \"UPDATE users SET email=%s WHERE uid=%s;\"\n",
    "cur.execute(sql, (email, uid))\n",
    "conn.commit()"
   ]
  },
  {
   "cell_type": "code",
   "execution_count": 22,
   "metadata": {},
   "outputs": [],
   "source": [
    "cur = conn.cursor()\n",
    "sql = \"UPDATE users SET email=%s WHERE uid=%s;\"\n",
    "for i in df.index:\n",
    "    uid = df.uid[i]\n",
    "    email = f'{uid}@email.com'\n",
    "    cur.execute(sql, (email, uid))\n",
    "conn.commit()"
   ]
  },
  {
   "source": [
    "- 데이터 조회"
   ],
   "cell_type": "markdown",
   "metadata": {}
  },
  {
   "cell_type": "code",
   "execution_count": 24,
   "metadata": {},
   "outputs": [],
   "source": [
    "sql = \"\"\"\n",
    "    SELECT uid, uname, email,\n",
    "    DATE_FORMAT(reg_date, '%Y-%m-%d %h:%i') AS reg_date\n",
    "    FROM users WHERE is_deleted=0;\n",
    "\"\"\""
   ]
  },
  {
   "cell_type": "code",
   "execution_count": 25,
   "metadata": {},
   "outputs": [
    {
     "output_type": "execute_result",
     "data": {
      "text/plain": [
       "('admin', '관리자', 'admin@korea.com', '2021-06-09 05:17')"
      ]
     },
     "metadata": {},
     "execution_count": 25
    }
   ],
   "source": [
    "# 한 레코드 조회\n",
    "cur = conn.cursor()\n",
    "cur.execute(sql)\n",
    "result = cur.fetchone()\n",
    "result"
   ]
  },
  {
   "cell_type": "code",
   "execution_count": 26,
   "metadata": {},
   "outputs": [
    {
     "output_type": "execute_result",
     "data": {
      "text/plain": [
       "(('djy', '대조영', 'djy@email.com', '2021-06-09 05:18'),\n",
       " ('eskim', '김은숙', 'eskim@email.com', '2021-06-09 05:18'))"
      ]
     },
     "metadata": {},
     "execution_count": 26
    }
   ],
   "source": [
    "# n개의 레코드 조회\n",
    "cur.fetchmany(2)"
   ]
  },
  {
   "cell_type": "code",
   "execution_count": 27,
   "metadata": {},
   "outputs": [
    {
     "output_type": "stream",
     "name": "stdout",
     "text": [
      "('admin', '관리자', 'admin@korea.com', '2021-06-09 05:17')\n('djy', '대조영', 'djy@email.com', '2021-06-09 05:18')\n('eskim', '김은숙', 'eskim@email.com', '2021-06-09 05:18')\n('gdhong', '홍길동', 'gdhong@email.com', '2021-06-09 05:18')\n('jbpark', '박재범', 'jbpark@email.com', '2021-06-09 05:18')\n('vincenzo', '빈센조', 'vincenzo@email.com', '2021-06-09 05:18')\n('wjlee', '이우정', 'wjlee@email.com', '2021-06-09 05:18')\n"
     ]
    }
   ],
   "source": [
    "# 모두 조회\n",
    "cur = conn.cursor()\n",
    "cur.execute(sql)\n",
    "results = cur.fetchall()\n",
    "for row in results:\n",
    "    print(row)"
   ]
  },
  {
   "cell_type": "code",
   "execution_count": 28,
   "metadata": {},
   "outputs": [
    {
     "output_type": "execute_result",
     "data": {
      "text/plain": [
       "        uid uname               email          reg_date\n",
       "0     admin   관리자     admin@korea.com  2021-06-09 05:17\n",
       "1       djy   대조영       djy@email.com  2021-06-09 05:18\n",
       "2     eskim   김은숙     eskim@email.com  2021-06-09 05:18\n",
       "3    gdhong   홍길동    gdhong@email.com  2021-06-09 05:18\n",
       "4    jbpark   박재범    jbpark@email.com  2021-06-09 05:18\n",
       "5  vincenzo   빈센조  vincenzo@email.com  2021-06-09 05:18\n",
       "6     wjlee   이우정     wjlee@email.com  2021-06-09 05:18"
      ],
      "text/html": "<div>\n<style scoped>\n    .dataframe tbody tr th:only-of-type {\n        vertical-align: middle;\n    }\n\n    .dataframe tbody tr th {\n        vertical-align: top;\n    }\n\n    .dataframe thead th {\n        text-align: right;\n    }\n</style>\n<table border=\"1\" class=\"dataframe\">\n  <thead>\n    <tr style=\"text-align: right;\">\n      <th></th>\n      <th>uid</th>\n      <th>uname</th>\n      <th>email</th>\n      <th>reg_date</th>\n    </tr>\n  </thead>\n  <tbody>\n    <tr>\n      <th>0</th>\n      <td>admin</td>\n      <td>관리자</td>\n      <td>admin@korea.com</td>\n      <td>2021-06-09 05:17</td>\n    </tr>\n    <tr>\n      <th>1</th>\n      <td>djy</td>\n      <td>대조영</td>\n      <td>djy@email.com</td>\n      <td>2021-06-09 05:18</td>\n    </tr>\n    <tr>\n      <th>2</th>\n      <td>eskim</td>\n      <td>김은숙</td>\n      <td>eskim@email.com</td>\n      <td>2021-06-09 05:18</td>\n    </tr>\n    <tr>\n      <th>3</th>\n      <td>gdhong</td>\n      <td>홍길동</td>\n      <td>gdhong@email.com</td>\n      <td>2021-06-09 05:18</td>\n    </tr>\n    <tr>\n      <th>4</th>\n      <td>jbpark</td>\n      <td>박재범</td>\n      <td>jbpark@email.com</td>\n      <td>2021-06-09 05:18</td>\n    </tr>\n    <tr>\n      <th>5</th>\n      <td>vincenzo</td>\n      <td>빈센조</td>\n      <td>vincenzo@email.com</td>\n      <td>2021-06-09 05:18</td>\n    </tr>\n    <tr>\n      <th>6</th>\n      <td>wjlee</td>\n      <td>이우정</td>\n      <td>wjlee@email.com</td>\n      <td>2021-06-09 05:18</td>\n    </tr>\n  </tbody>\n</table>\n</div>"
     },
     "metadata": {},
     "execution_count": 28
    }
   ],
   "source": [
    "# 모두 조회한 뒤 데이터프레임으로 만들기\n",
    "uids, unames, emails, regs = [],[],[],[]\n",
    "for row in results:\n",
    "    uids.append(row[0])\n",
    "    unames.append(row[1])\n",
    "    emails.append(row[2])\n",
    "    regs.append(row[3])\n",
    "df2 = pd.DataFrame({\n",
    "    'uid': uids, 'uname': unames,\n",
    "    'email': emails, 'reg_date': regs\n",
    "})\n",
    "df2"
   ]
  },
  {
   "source": [
    "- 데이터 검색"
   ],
   "cell_type": "markdown",
   "metadata": {}
  },
  {
   "cell_type": "code",
   "execution_count": 29,
   "metadata": {},
   "outputs": [],
   "source": [
    "keyword = '김'\n",
    "sql = \"\"\"\n",
    "    SELECT uid FROM users \n",
    "    WHERE is_deleted=0 and uname like %s;\n",
    "\"\"\""
   ]
  },
  {
   "cell_type": "code",
   "execution_count": 30,
   "metadata": {},
   "outputs": [
    {
     "output_type": "execute_result",
     "data": {
      "text/plain": [
       "('eskim',)"
      ]
     },
     "metadata": {},
     "execution_count": 30
    }
   ],
   "source": [
    "# 결과가 하나라도 튜플로 데이터를 반환\n",
    "cur = conn.cursor()\n",
    "cur.execute(sql, keyword+'%')\n",
    "result = cur.fetchone()\n",
    "result"
   ]
  },
  {
   "cell_type": "code",
   "execution_count": 31,
   "metadata": {},
   "outputs": [
    {
     "output_type": "execute_result",
     "data": {
      "text/plain": [
       "'eskim'"
      ]
     },
     "metadata": {},
     "execution_count": 31
    }
   ],
   "source": [
    "result[0]"
   ]
  },
  {
   "cell_type": "code",
   "execution_count": 32,
   "metadata": {},
   "outputs": [
    {
     "output_type": "execute_result",
     "data": {
      "text/plain": [
       "(('eskim',),)"
      ]
     },
     "metadata": {},
     "execution_count": 32
    }
   ],
   "source": [
    "cur = conn.cursor()\n",
    "cur.execute(sql, keyword+'%')\n",
    "result = cur.fetchall()\n",
    "result"
   ]
  },
  {
   "cell_type": "code",
   "execution_count": 33,
   "metadata": {},
   "outputs": [
    {
     "output_type": "execute_result",
     "data": {
      "text/plain": [
       "'eskim'"
      ]
     },
     "metadata": {},
     "execution_count": 33
    }
   ],
   "source": [
    "result[0][0]"
   ]
  },
  {
   "cell_type": "code",
   "execution_count": 34,
   "metadata": {},
   "outputs": [],
   "source": [
    "cur.close()\n",
    "conn.close()"
   ]
  },
  {
   "cell_type": "code",
   "execution_count": null,
   "metadata": {},
   "outputs": [],
   "source": []
  }
 ]
}