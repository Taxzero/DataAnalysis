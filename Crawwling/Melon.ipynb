{
 "metadata": {
  "language_info": {
   "codemirror_mode": {
    "name": "ipython",
    "version": 3
   },
   "file_extension": ".py",
   "mimetype": "text/x-python",
   "name": "python",
   "nbconvert_exporter": "python",
   "pygments_lexer": "ipython3",
   "version": "3.9.4"
  },
  "orig_nbformat": 2,
  "kernelspec": {
   "name": "python394jvsc74a57bd021f1ad5bc8fd95526da142de23db1942137de62e0445c4ff2b856a782ec60ebe",
   "display_name": "Python 3.9.4 64-bit"
  },
  "metadata": {
   "interpreter": {
    "hash": "21f1ad5bc8fd95526da142de23db1942137de62e0445c4ff2b856a782ec60ebe"
   }
  }
 },
 "nbformat": 4,
 "nbformat_minor": 2,
 "cells": [
  {
   "source": [
    "# Melon 주간 차트 크롤링"
   ],
   "cell_type": "markdown",
   "metadata": {}
  },
  {
   "cell_type": "code",
   "execution_count": 5,
   "metadata": {},
   "outputs": [],
   "source": [
    "import requests\n",
    "import pandas as pd"
   ]
  },
  {
   "cell_type": "code",
   "execution_count": 6,
   "metadata": {},
   "outputs": [],
   "source": [
    "# 멜론 주간차트\n",
    "# 헤더에 User-Agent 값을 주어야만 데이터를 가져올 수 있음.\n",
    "url = 'https://www.melon.com/chart/week/index.htm'\n",
    "header = {'User-Agent':\n",
    "            \"Mozilla/5.0 (Windows NT 10.0; Win64; x64) AppleWebKit/537.36 (KHTML, like Gecko) Chrome/91.0.4472.77 Safari/537.36\"}\n",
    "req = requests.get(url, headers=header)\n",
    "html = req.text\n",
    "#html"
   ]
  },
  {
   "cell_type": "code",
   "execution_count": 8,
   "metadata": {},
   "outputs": [],
   "source": [
    "from bs4 import BeautifulSoup\n",
    "\n",
    "soup = BeautifulSoup(html, 'html.parser')"
   ]
  },
  {
   "cell_type": "code",
   "execution_count": 9,
   "metadata": {},
   "outputs": [
    {
     "output_type": "execute_result",
     "data": {
      "text/plain": [
       "50"
      ]
     },
     "metadata": {},
     "execution_count": 9
    }
   ],
   "source": [
    "trs = soup.select('#lst50')\n",
    "len(trs)"
   ]
  },
  {
   "cell_type": "code",
   "execution_count": 10,
   "metadata": {},
   "outputs": [
    {
     "output_type": "execute_result",
     "data": {
      "text/plain": [
       "<tr class=\"lst50\" data-song-no=\"33507137\" id=\"lst50\">\n",
       "<td><div class=\"wrap t_right\"><input class=\"input_check\" name=\"input_check\" title=\"Butter 곡 선택\" type=\"checkbox\" value=\"33507137\"/></div></td>\n",
       "<td><div class=\"wrap t_center\"><span class=\"rank\">1</span><span class=\"none\">위</span></div></td>\n",
       "<!-- 차트순위 추가 -->\n",
       "<td><div class=\"wrap\">\n",
       "<span class=\"rank_wrap\" title=\"순위 동일\">\n",
       "<span class=\"bullet_icons rank_static\"><span class=\"none\">순위 동일</span></span>\n",
       "<span class=\"none\">0</span>\n",
       "</span>\n",
       "</div></td>\n",
       "<td><div class=\"wrap\">\n",
       "<a class=\"image_typeAll\" href=\"javascript:melon.link.goAlbumDetail('10612483');\" title=\"Butter\">\n",
       "<img alt=\"Butter - 페이지 이동\" height=\"60\" onerror=\"WEBPOCIMG.defaultAlbumImg(this);\" src=\"https://cdnimg.melon.co.kr/cm2/album/images/106/12/483/10612483_20210521111412_500.jpg/melon/resize/120/quality/80/optimize\" width=\"60\">\n",
       "<span class=\"bg_album_frame\"></span>\n",
       "</img></a>\n",
       "</div></td>\n",
       "<td><div class=\"wrap\">\n",
       "<a class=\"btn button_icons type03 song_info\" href=\"javascript:melon.link.goSongDetail('33507137');\" title=\"Butter 곡정보\"><span class=\"none\">곡정보</span></a>\n",
       "</div></td>\n",
       "<td><div class=\"wrap\">\n",
       "<div class=\"wrap_song_info\">\n",
       "<div class=\"ellipsis rank01\"><span>\n",
       "<a href=\"javascript:melon.play.playSong('19041301',33507137);\" title=\"Butter 재생\">Butter</a>\n",
       "</span></div><br/>\n",
       "<div class=\"ellipsis rank02\">\n",
       "<a href=\"javascript:melon.link.goArtistDetail('672375');\" title=\"방탄소년단 - 페이지 이동\">방탄소년단</a><span class=\"checkEllipsis\" style=\"display:none\"><a href=\"javascript:melon.link.goArtistDetail('672375');\" title=\"방탄소년단 - 페이지 이동\">방탄소년단</a></span>\n",
       "</div>\n",
       "</div>\n",
       "</div></td>\n",
       "<td><div class=\"wrap\">\n",
       "<div class=\"wrap_song_info\">\n",
       "<div class=\"ellipsis rank03\">\n",
       "<a href=\"javascript:melon.link.goAlbumDetail('10612483');\" title=\"Butter - 페이지 이동\">Butter</a>\n",
       "</div>\n",
       "</div>\n",
       "</div></td>\n",
       "<td><div class=\"wrap\">\n",
       "<button class=\"button_etc like\" data-song-menuid=\"19041301\" data-song-no=\"33507137\" title=\"Butter 좋아요\" type=\"button\">\n",
       "<span class=\"odd_span\">좋아요</span>\n",
       "<span class=\"cnt\">\n",
       "<span class=\"none\">총건수</span>\n",
       "\t\t\t\t\t\t\t\t\t\t\t\t0\n",
       "\t\t\t\t\t\t\t\t\t\t\t</span>\n",
       "</button>\n",
       "</div></td>\n",
       "<td><div class=\"wrap t_center\">\n",
       "<button class=\"button_icons play\" onclick=\"melon.play.playSong('19041301',33507137);\" title=\"듣기\" type=\"button\"><span class=\"none\">듣기</span></button>\n",
       "</div></td>\n",
       "<td><div class=\"wrap t_center\">\n",
       "<button class=\"button_icons scrap\" onclick=\"melon.play.addPlayList('33507137');\" title=\"담기\" type=\"button\"><span class=\"none\">담기</span></button>\n",
       "</div></td>\n",
       "<td><div class=\"wrap t_center\">\n",
       "<button class=\"button_icons download\" onclick=\"melon.buy.goBuyProduct('frm', '33507137', '3C0001', '','0', '19041301');\" title=\"다운로드\" type=\"button\"><span class=\"none\">다운로드</span></button>\n",
       "</div></td>\n",
       "<td><div class=\"wrap t_center\">\n",
       "<button class=\"button_icons video\" onclick=\"melon.link.goMvDetail('19041301', '33507137','song');\" title=\"뮤직비디오\" type=\"button\"><span class=\"none\">뮤직비디오</span></button>\n",
       "</div></td>\n",
       "</tr>"
      ]
     },
     "metadata": {},
     "execution_count": 10
    }
   ],
   "source": [
    "tr = trs[0]\n",
    "tr"
   ]
  },
  {
   "cell_type": "code",
   "execution_count": 11,
   "metadata": {},
   "outputs": [
    {
     "output_type": "execute_result",
     "data": {
      "text/plain": [
       "1"
      ]
     },
     "metadata": {},
     "execution_count": 11
    }
   ],
   "source": [
    "# 순위\n",
    "rank = tr.select_one('.rank').string    # get_text()\n",
    "rank = int(rank)\n",
    "rank"
   ]
  },
  {
   "cell_type": "code",
   "execution_count": 12,
   "metadata": {},
   "outputs": [
    {
     "output_type": "execute_result",
     "data": {
      "text/plain": [
       "'Butter'"
      ]
     },
     "metadata": {},
     "execution_count": 12
    }
   ],
   "source": [
    "# 곡명\n",
    "title = tr.select_one('.ellipsis.rank01')\n",
    "title = title.find('a').get_text()\n",
    "title"
   ]
  },
  {
   "cell_type": "code",
   "execution_count": 13,
   "metadata": {},
   "outputs": [
    {
     "output_type": "execute_result",
     "data": {
      "text/plain": [
       "'방탄소년단'"
      ]
     },
     "metadata": {},
     "execution_count": 13
    }
   ],
   "source": [
    "# 가수\n",
    "artist = tr.select_one('.ellipsis.rank02')\n",
    "artist = artist.find('a').get_text()\n",
    "artist"
   ]
  },
  {
   "cell_type": "code",
   "execution_count": 14,
   "metadata": {},
   "outputs": [
    {
     "output_type": "execute_result",
     "data": {
      "text/plain": [
       "'방탄소년단'"
      ]
     },
     "metadata": {},
     "execution_count": 14
    }
   ],
   "source": [
    "# 가수\n",
    "artist = tr.select_one('.ellipsis.rank02')\n",
    "artist = artist.find('a').get_text()\n",
    "artist"
   ]
  },
  {
   "cell_type": "code",
   "execution_count": 15,
   "metadata": {},
   "outputs": [
    {
     "output_type": "execute_result",
     "data": {
      "text/plain": [
       "'Butter'"
      ]
     },
     "metadata": {},
     "execution_count": 15
    }
   ],
   "source": [
    "# 앨범\n",
    "album = tr.select_one('.ellipsis.rank03')\n",
    "album = album.find('a').string\n",
    "album"
   ]
  },
  {
   "source": [
    "- 50곡에 대해서 데이터프레임 만들기"
   ],
   "cell_type": "markdown",
   "metadata": {}
  },
  {
   "cell_type": "code",
   "execution_count": 16,
   "metadata": {},
   "outputs": [],
   "source": [
    "rank_list, title_list, artist_list, album_list = [],[],[],[]\n",
    "for tr in trs:\n",
    "    rank = tr.select_one('.rank').string    # get_text()\n",
    "    rank = int(rank)\n",
    "    title = tr.select_one('.ellipsis.rank01')\n",
    "    title = title.find('a').get_text()\n",
    "    artist = tr.select_one('.ellipsis.rank02')\n",
    "    artist = artist.find('a').get_text()\n",
    "    album = tr.select_one('.ellipsis.rank03')\n",
    "    album = album.find('a').string\n",
    "\n",
    "    rank_list.append(rank)\n",
    "    title_list.append(title)\n",
    "    artist_list.append(artist)\n",
    "    album_list.append(album)"
   ]
  },
  {
   "cell_type": "code",
   "execution_count": 17,
   "metadata": {},
   "outputs": [
    {
     "output_type": "execute_result",
     "data": {
      "text/plain": [
       "   순위                                      곡명                 가수  \\\n",
       "0   1                                  Butter              방탄소년단   \n",
       "1   2                           Dun Dun Dance  오마이걸 (OH MY GIRL)   \n",
       "2   3                                   헤픈 우연        헤이즈 (Heize)   \n",
       "3   4                              Next Level              aespa   \n",
       "4   5  Peaches (Feat. Daniel Caesar & Giveon)      Justin Bieber   \n",
       "\n",
       "              앨범  \n",
       "0         Butter  \n",
       "1  Dear OHMYGIRL  \n",
       "2         HAPPEN  \n",
       "3     Next Level  \n",
       "4        Justice  "
      ],
      "text/html": "<div>\n<style scoped>\n    .dataframe tbody tr th:only-of-type {\n        vertical-align: middle;\n    }\n\n    .dataframe tbody tr th {\n        vertical-align: top;\n    }\n\n    .dataframe thead th {\n        text-align: right;\n    }\n</style>\n<table border=\"1\" class=\"dataframe\">\n  <thead>\n    <tr style=\"text-align: right;\">\n      <th></th>\n      <th>순위</th>\n      <th>곡명</th>\n      <th>가수</th>\n      <th>앨범</th>\n    </tr>\n  </thead>\n  <tbody>\n    <tr>\n      <th>0</th>\n      <td>1</td>\n      <td>Butter</td>\n      <td>방탄소년단</td>\n      <td>Butter</td>\n    </tr>\n    <tr>\n      <th>1</th>\n      <td>2</td>\n      <td>Dun Dun Dance</td>\n      <td>오마이걸 (OH MY GIRL)</td>\n      <td>Dear OHMYGIRL</td>\n    </tr>\n    <tr>\n      <th>2</th>\n      <td>3</td>\n      <td>헤픈 우연</td>\n      <td>헤이즈 (Heize)</td>\n      <td>HAPPEN</td>\n    </tr>\n    <tr>\n      <th>3</th>\n      <td>4</td>\n      <td>Next Level</td>\n      <td>aespa</td>\n      <td>Next Level</td>\n    </tr>\n    <tr>\n      <th>4</th>\n      <td>5</td>\n      <td>Peaches (Feat. Daniel Caesar &amp; Giveon)</td>\n      <td>Justin Bieber</td>\n      <td>Justice</td>\n    </tr>\n  </tbody>\n</table>\n</div>"
     },
     "metadata": {},
     "execution_count": 17
    }
   ],
   "source": [
    "df = pd.DataFrame({\n",
    "    '순위': rank_list,\n",
    "    '곡명': title_list,\n",
    "    '가수': artist_list,\n",
    "    '앨범': album_list\n",
    "})\n",
    "df.head()"
   ]
  },
  {
   "source": [
    "- 이미지 속성값 가져오기"
   ],
   "cell_type": "markdown",
   "metadata": {}
  },
  {
   "cell_type": "code",
   "execution_count": 18,
   "metadata": {},
   "outputs": [
    {
     "output_type": "execute_result",
     "data": {
      "text/plain": [
       "'https://cdnimg.melon.co.kr/cm2/album/images/106/12/483/10612483_20210521111412_500.jpg/melon/resize/120/quality/80/optimize'"
      ]
     },
     "metadata": {},
     "execution_count": 18
    }
   ],
   "source": [
    "image = trs[0].select_one('.image_typeAll').find('img')\n",
    "image = image['src']\n",
    "image"
   ]
  },
  {
   "source": [
    "- 100 곡 모두 가져오기"
   ],
   "cell_type": "markdown",
   "metadata": {}
  },
  {
   "cell_type": "code",
   "execution_count": 19,
   "metadata": {},
   "outputs": [
    {
     "output_type": "execute_result",
     "data": {
      "text/plain": [
       "100"
      ]
     },
     "metadata": {},
     "execution_count": 19
    }
   ],
   "source": [
    "trs = soup.select('#lst50')\n",
    "trs2 = soup.select('#lst100')\n",
    "trs.extend(trs2)\n",
    "len(trs)"
   ]
  },
  {
   "cell_type": "code",
   "execution_count": 20,
   "metadata": {},
   "outputs": [],
   "source": [
    "rank_list, title_list, artist_list, album_list, image_list = [],[],[],[],[]\n",
    "for tr in trs:\n",
    "    rank = tr.select_one('.rank').string    # get_text()\n",
    "    rank = int(rank)\n",
    "    title = tr.select_one('.ellipsis.rank01')\n",
    "    title = title.find('a').get_text()\n",
    "    artist = tr.select_one('.ellipsis.rank02')\n",
    "    artist = artist.find('a').get_text()\n",
    "    album = tr.select_one('.ellipsis.rank03')\n",
    "    album = album.find('a').string\n",
    "    image = tr.select_one('.image_typeAll').find('img')\n",
    "    image = image['src']\n",
    "\n",
    "    rank_list.append(rank)\n",
    "    title_list.append(title)\n",
    "    artist_list.append(artist)\n",
    "    album_list.append(album)\n",
    "    image_list.append(image)"
   ]
  },
  {
   "cell_type": "code",
   "execution_count": 21,
   "metadata": {},
   "outputs": [
    {
     "output_type": "execute_result",
     "data": {
      "text/plain": [
       "   순위                                      곡명                 가수  \\\n",
       "0   1                                  Butter              방탄소년단   \n",
       "1   2                           Dun Dun Dance  오마이걸 (OH MY GIRL)   \n",
       "2   3                                   헤픈 우연        헤이즈 (Heize)   \n",
       "3   4                              Next Level              aespa   \n",
       "4   5  Peaches (Feat. Daniel Caesar & Giveon)      Justin Bieber   \n",
       "\n",
       "              앨범                                                이미지  \n",
       "0         Butter  https://cdnimg.melon.co.kr/cm2/album/images/10...  \n",
       "1  Dear OHMYGIRL  https://cdnimg.melon.co.kr/cm2/album/images/10...  \n",
       "2         HAPPEN  https://cdnimg.melon.co.kr/cm2/album/images/10...  \n",
       "3     Next Level  https://cdnimg.melon.co.kr/cm2/album/images/10...  \n",
       "4        Justice  https://cdnimg.melon.co.kr/cm2/album/images/10...  "
      ],
      "text/html": "<div>\n<style scoped>\n    .dataframe tbody tr th:only-of-type {\n        vertical-align: middle;\n    }\n\n    .dataframe tbody tr th {\n        vertical-align: top;\n    }\n\n    .dataframe thead th {\n        text-align: right;\n    }\n</style>\n<table border=\"1\" class=\"dataframe\">\n  <thead>\n    <tr style=\"text-align: right;\">\n      <th></th>\n      <th>순위</th>\n      <th>곡명</th>\n      <th>가수</th>\n      <th>앨범</th>\n      <th>이미지</th>\n    </tr>\n  </thead>\n  <tbody>\n    <tr>\n      <th>0</th>\n      <td>1</td>\n      <td>Butter</td>\n      <td>방탄소년단</td>\n      <td>Butter</td>\n      <td>https://cdnimg.melon.co.kr/cm2/album/images/10...</td>\n    </tr>\n    <tr>\n      <th>1</th>\n      <td>2</td>\n      <td>Dun Dun Dance</td>\n      <td>오마이걸 (OH MY GIRL)</td>\n      <td>Dear OHMYGIRL</td>\n      <td>https://cdnimg.melon.co.kr/cm2/album/images/10...</td>\n    </tr>\n    <tr>\n      <th>2</th>\n      <td>3</td>\n      <td>헤픈 우연</td>\n      <td>헤이즈 (Heize)</td>\n      <td>HAPPEN</td>\n      <td>https://cdnimg.melon.co.kr/cm2/album/images/10...</td>\n    </tr>\n    <tr>\n      <th>3</th>\n      <td>4</td>\n      <td>Next Level</td>\n      <td>aespa</td>\n      <td>Next Level</td>\n      <td>https://cdnimg.melon.co.kr/cm2/album/images/10...</td>\n    </tr>\n    <tr>\n      <th>4</th>\n      <td>5</td>\n      <td>Peaches (Feat. Daniel Caesar &amp; Giveon)</td>\n      <td>Justin Bieber</td>\n      <td>Justice</td>\n      <td>https://cdnimg.melon.co.kr/cm2/album/images/10...</td>\n    </tr>\n  </tbody>\n</table>\n</div>"
     },
     "metadata": {},
     "execution_count": 21
    }
   ],
   "source": [
    "df = pd.DataFrame({\n",
    "    '순위': rank_list,\n",
    "    '곡명': title_list,\n",
    "    '가수': artist_list,\n",
    "    '앨범': album_list,\n",
    "    '이미지': image_list\n",
    "})\n",
    "df.head()"
   ]
  },
  {
   "source": [
    "- 파일에 저장하기"
   ],
   "cell_type": "markdown",
   "metadata": {}
  },
  {
   "cell_type": "code",
   "execution_count": 22,
   "metadata": {},
   "outputs": [
    {
     "output_type": "execute_result",
     "data": {
      "text/plain": [
       "'2021.05.31 ~ 2021.06.06'"
      ]
     },
     "metadata": {},
     "execution_count": 22
    }
   ],
   "source": [
    "period = soup.select_one('.yyyymmdd').get_text().strip()\n",
    "period"
   ]
  },
  {
   "cell_type": "code",
   "execution_count": 23,
   "metadata": {},
   "outputs": [],
   "source": [
    "filename = f'melon({period}).csv'\n",
    "df.to_csv(filename, index=False, sep=',', encoding='utf8')"
   ]
  },
  {
   "cell_type": "code",
   "execution_count": null,
   "metadata": {},
   "outputs": [],
   "source": []
  }
 ]
}