{
 "metadata": {
  "language_info": {
   "codemirror_mode": {
    "name": "ipython",
    "version": 3
   },
   "file_extension": ".py",
   "mimetype": "text/x-python",
   "name": "python",
   "nbconvert_exporter": "python",
   "pygments_lexer": "ipython3",
   "version": "3.8.5"
  },
  "orig_nbformat": 2,
  "kernelspec": {
   "name": "python385jvsc74a57bd0c81169c30fb96244cfba0db287a0d3fd5325268de070a7a6116eecd4596df902",
   "display_name": "Python 3.8.5 64-bit ('base': conda)"
  }
 },
 "nbformat": 4,
 "nbformat_minor": 2,
 "cells": [
  {
   "source": [
    "# 행정안전부 도로명주소 API"
   ],
   "cell_type": "markdown",
   "metadata": {}
  },
  {
   "source": [
    "### 건물명으로부터 도로명주소 구하기"
   ],
   "cell_type": "markdown",
   "metadata": {}
  },
  {
   "cell_type": "code",
   "execution_count": 3,
   "metadata": {},
   "outputs": [],
   "source": [
    "import requests\n",
    "from urllib.parse import urlparse, quote\n",
    "import pandas as pd"
   ]
  },
  {
   "cell_type": "code",
   "execution_count": 8,
   "metadata": {},
   "outputs": [],
   "source": [
    "with open(\"roadapi.txt\", mode = 'r') as key_file:\n",
    "    road_key = key_file.read()"
   ]
  },
  {
   "cell_type": "code",
   "execution_count": 17,
   "metadata": {},
   "outputs": [
    {
     "output_type": "execute_result",
     "data": {
      "text/plain": [
       "'https://www.juso.go.kr/addrlink/addrLinkApi.do?confmKey=devU01TX0FVVEgyMDIxMDYwNDA5MDQyNzExMTI0MzY=&currentPage=1&countPerPage=10&keyword=%ED%95%9C%EA%B5%AD%EA%B2%BD%EC%A0%9C%EC%8B%A0%EB%AC%B8%EC%82%AC&resultType=json'"
      ]
     },
     "metadata": {},
     "execution_count": 17
    }
   ],
   "source": [
    "# url 만들기\n",
    "read_url = \"https://www.juso.go.kr/addrlink/addrLinkApi.do\"\n",
    "url = f\"{read_url}?confmKey={road_key}&currentPage=1&countPerPage=10&keyword={quote('한국경제신문사')}&resultType=json\"\n",
    "url"
   ]
  },
  {
   "cell_type": "code",
   "execution_count": 16,
   "metadata": {},
   "outputs": [
    {
     "output_type": "execute_result",
     "data": {
      "text/plain": [
       "{'results': {'common': {'errorMessage': '정상',\n",
       "   'countPerPage': '10',\n",
       "   'totalCount': '1',\n",
       "   'errorCode': '0',\n",
       "   'currentPage': '1'},\n",
       "  'juso': [{'detBdNmList': '',\n",
       "    'engAddr': '463, Cheongpa-ro, Jung-gu, Seoul',\n",
       "    'rn': '청파로',\n",
       "    'emdNm': '중림동',\n",
       "    'zipNo': '04505',\n",
       "    'roadAddrPart2': ' (중림동)',\n",
       "    'emdNo': '02',\n",
       "    'sggNm': '중구',\n",
       "    'jibunAddr': '서울특별시 중구 중림동 441 한국경제신문사',\n",
       "    'siNm': '서울특별시',\n",
       "    'roadAddrPart1': '서울특별시 중구 청파로 463',\n",
       "    'bdNm': '한국경제신문사',\n",
       "    'admCd': '1114017100',\n",
       "    'udrtYn': '0',\n",
       "    'lnbrMnnm': '441',\n",
       "    'roadAddr': '서울특별시 중구 청파로 463 (중림동)',\n",
       "    'lnbrSlno': '0',\n",
       "    'buldMnnm': '463',\n",
       "    'bdKdcd': '0',\n",
       "    'liNm': '',\n",
       "    'rnMgtSn': '111403101023',\n",
       "    'mtYn': '0',\n",
       "    'bdMgtSn': '1114017100104410000000321',\n",
       "    'buldSlno': '0'}]}}"
      ]
     },
     "metadata": {},
     "execution_count": 16
    }
   ],
   "source": [
    "result = requests.get(url).json()\n",
    "result"
   ]
  },
  {
   "cell_type": "code",
   "execution_count": 20,
   "metadata": {},
   "outputs": [
    {
     "output_type": "execute_result",
     "data": {
      "text/plain": [
       "[{'detBdNmList': '',\n",
       "  'engAddr': '463, Cheongpa-ro, Jung-gu, Seoul',\n",
       "  'rn': '청파로',\n",
       "  'emdNm': '중림동',\n",
       "  'zipNo': '04505',\n",
       "  'roadAddrPart2': ' (중림동)',\n",
       "  'emdNo': '02',\n",
       "  'sggNm': '중구',\n",
       "  'jibunAddr': '서울특별시 중구 중림동 441 한국경제신문사',\n",
       "  'siNm': '서울특별시',\n",
       "  'roadAddrPart1': '서울특별시 중구 청파로 463',\n",
       "  'bdNm': '한국경제신문사',\n",
       "  'admCd': '1114017100',\n",
       "  'udrtYn': '0',\n",
       "  'lnbrMnnm': '441',\n",
       "  'roadAddr': '서울특별시 중구 청파로 463 (중림동)',\n",
       "  'lnbrSlno': '0',\n",
       "  'buldMnnm': '463',\n",
       "  'bdKdcd': '0',\n",
       "  'liNm': '',\n",
       "  'rnMgtSn': '111403101023',\n",
       "  'mtYn': '0',\n",
       "  'bdMgtSn': '1114017100104410000000321',\n",
       "  'buldSlno': '0'}]"
      ]
     },
     "metadata": {},
     "execution_count": 20
    }
   ],
   "source": [
    "result['results']['juso']"
   ]
  },
  {
   "cell_type": "code",
   "execution_count": 22,
   "metadata": {},
   "outputs": [
    {
     "output_type": "execute_result",
     "data": {
      "text/plain": [
       "('한국경제신문사', '서울특별시 중구 청파로 463 (중림동)')"
      ]
     },
     "metadata": {},
     "execution_count": 22
    }
   ],
   "source": [
    "buliding_name = result['results']['juso'][0]['bdNm']\n",
    "road_address = result['results']['juso'][0]['roadAddr']\n",
    "buliding_name, road_address"
   ]
  },
  {
   "source": [
    "### 5개의 건물명을 리스트로 받아 도로명주소를 구한뒤 데이터프레임을 만들어 addr.csv 파일로 만들기"
   ],
   "cell_type": "markdown",
   "metadata": {}
  },
  {
   "cell_type": "code",
   "execution_count": 53,
   "metadata": {},
   "outputs": [],
   "source": [
    "bldg_list = ['한국경제신문사','서울특별시청','중구청','종로구청','효창공원']"
   ]
  },
  {
   "cell_type": "code",
   "execution_count": 54,
   "metadata": {},
   "outputs": [],
   "source": [
    "addr_list = []\n",
    "for bldg in bldg_list:\n",
    "    url = f\"{read_url}?confmKey={road_key}&currentPage=1&countPerPage=10&keyword={quote(bldg)}&resultType=json\"\n",
    "    result = requests.get(url).json()\n",
    "    road_address = result['results']['juso'][0]['roadAddr']\n",
    "    addr_list.append(road_address)"
   ]
  },
  {
   "cell_type": "code",
   "execution_count": 55,
   "metadata": {},
   "outputs": [
    {
     "output_type": "execute_result",
     "data": {
      "text/plain": [
       "['서울특별시 중구 청파로 463 (중림동)',\n",
       " '서울특별시 중구 세종대로 110 (태평로1가)',\n",
       " '서울특별시 중구 창경궁로 17 (예관동)',\n",
       " '서울특별시 종로구 종로1길 36 (수송동)',\n",
       " '서울특별시 용산구 효창원로 177-18 (효창동)']"
      ]
     },
     "metadata": {},
     "execution_count": 55
    }
   ],
   "source": [
    "addr_list"
   ]
  },
  {
   "cell_type": "code",
   "execution_count": 57,
   "metadata": {},
   "outputs": [
    {
     "output_type": "execute_result",
     "data": {
      "text/plain": [
       "       건물명                           주소\n",
       "0  한국경제신문사       서울특별시 중구 청파로 463 (중림동)\n",
       "1   서울특별시청    서울특별시 중구 세종대로 110 (태평로1가)\n",
       "2      중구청       서울특별시 중구 창경궁로 17 (예관동)\n",
       "3     종로구청      서울특별시 종로구 종로1길 36 (수송동)\n",
       "4     효창공원  서울특별시 용산구 효창원로 177-18 (효창동)"
      ],
      "text/html": "<div>\n<style scoped>\n    .dataframe tbody tr th:only-of-type {\n        vertical-align: middle;\n    }\n\n    .dataframe tbody tr th {\n        vertical-align: top;\n    }\n\n    .dataframe thead th {\n        text-align: right;\n    }\n</style>\n<table border=\"1\" class=\"dataframe\">\n  <thead>\n    <tr style=\"text-align: right;\">\n      <th></th>\n      <th>건물명</th>\n      <th>주소</th>\n    </tr>\n  </thead>\n  <tbody>\n    <tr>\n      <th>0</th>\n      <td>한국경제신문사</td>\n      <td>서울특별시 중구 청파로 463 (중림동)</td>\n    </tr>\n    <tr>\n      <th>1</th>\n      <td>서울특별시청</td>\n      <td>서울특별시 중구 세종대로 110 (태평로1가)</td>\n    </tr>\n    <tr>\n      <th>2</th>\n      <td>중구청</td>\n      <td>서울특별시 중구 창경궁로 17 (예관동)</td>\n    </tr>\n    <tr>\n      <th>3</th>\n      <td>종로구청</td>\n      <td>서울특별시 종로구 종로1길 36 (수송동)</td>\n    </tr>\n    <tr>\n      <th>4</th>\n      <td>효창공원</td>\n      <td>서울특별시 용산구 효창원로 177-18 (효창동)</td>\n    </tr>\n  </tbody>\n</table>\n</div>"
     },
     "metadata": {},
     "execution_count": 57
    }
   ],
   "source": [
    "df = pd.DataFrame({'건물명': bldg_list, '주소':addr_list})\n",
    "df"
   ]
  },
  {
   "cell_type": "code",
   "execution_count": 58,
   "metadata": {},
   "outputs": [],
   "source": [
    "df.to_csv('addr.csv', index=False,sep=',',encoding='utf8')"
   ]
  },
  {
   "cell_type": "code",
   "execution_count": null,
   "metadata": {},
   "outputs": [],
   "source": []
  }
 ]
}